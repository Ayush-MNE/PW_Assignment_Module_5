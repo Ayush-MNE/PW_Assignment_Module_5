{
 "cells": [
  {
   "cell_type": "markdown",
   "metadata": {},
   "source": [
    "1. What is the difference between a function and a method in Python?"
   ]
  },
  {
   "cell_type": "markdown",
   "metadata": {},
   "source": [
    "Ans. In Python, both functions and methods are blocks of code that perform specific tasks, but they differ primarily in how they are called and where they are defined. Here’s a breakdown of the differences:\n",
    "\n",
    "1. Functions:\n",
    "Definition: A function is defined using the def keyword and can exist independently of any object.\n",
    "Usage: Functions are called by their name followed by parentheses. They can take arguments and return values.\n",
    "Scope: Functions can be defined at the top level of a module, inside other functions, or even inside methods.\n",
    "\n",
    "2. Methods:\n",
    "Definition: A method is a function that is associated with an object and defined within a class. Methods are functions that operate on instances of classes.\n",
    "Usage: Methods are called on objects (instances of classes) using the dot notation (object.method()).\n",
    "Scope: Methods are always defined inside a class and typically take self as their first parameter, which refers to the instance of the class.\n",
    "\n",
    "Key Differences:\n",
    "Association: Methods are associated with objects (class instances), while functions are standalone.\n",
    "Calling: Functions are called directly by their name, whereas methods are called on objects using the dot notation.\n",
    "First Parameter: Methods typically have self as their first parameter to access instance-specific data, while functions don’t have this requirement.\n",
    "These distinctions are crucial when designing and organizing code in object-oriented programming "
   ]
  },
  {
   "cell_type": "markdown",
   "metadata": {},
   "source": [
    "2. Explain the concept of function arguments and parameters in Python."
   ]
  },
  {
   "cell_type": "markdown",
   "metadata": {},
   "source": [
    "Ans. In Python, the terms arguments and parameters are often used interchangeably, but they have distinct meanings in the context of functions. Here’s a breakdown of each concept:\n",
    "\n",
    "1. Parameters:\n",
    "Definition: Parameters are the variables listed inside the parentheses in the function definition. They act as placeholders for the values that will be passed into the function when it is called.\n",
    "Role: Parameters allow you to define functions that can accept input and perform operations based on that input.\n",
    "\n",
    "2. Arguments:\n",
    "Definition: Arguments are the actual values that are passed to the function when it is called. They correspond to the parameters defined in the function.\n",
    "Role: Arguments provide the actual data that the function will use to perform its operations.\n",
    "\n",
    "Key Differences:\n",
    "Location:\n",
    "\n",
    "Parameters are part of the function definition.\n",
    "Arguments are part of the function call.\n",
    "Function Definition vs. Function Call:\n",
    "\n",
    "When you define a function, you specify parameters.\n",
    "When you invoke or call the function, you pass in arguments."
   ]
  },
  {
   "cell_type": "markdown",
   "metadata": {},
   "source": [
    "3. What are the different ways to define and call a function in Python?"
   ]
  },
  {
   "cell_type": "markdown",
   "metadata": {},
   "source": [
    "Ans. In Python, functions can be defined and called in various ways, depending on the use case. Here's an overview of the different ways to define and call functions:\n",
    "\n",
    "1. Regular Function Definition and Call\n",
    "Definition:\n",
    "You define a function using the def keyword, followed by the function name and parentheses containing any parameters.\n",
    "\n",
    "2. Function with Default Arguments\n",
    "Definition:\n",
    "You can define a function with default parameter values, which are used if no argument is provided for those parameters.\n",
    "\n",
    "3. Function with Keyword Arguments\n",
    "Definition:\n",
    "Same as a regular function, but you can call it using keyword arguments to explicitly specify which parameter each argument is for.\n",
    "\n",
    "4. Function with Variable-Length Arguments\n",
    "Definition:\n",
    "You can define a function that accepts a variable number of positional (*args) or keyword arguments (**kwargs)."
   ]
  },
  {
   "cell_type": "markdown",
   "metadata": {},
   "source": [
    "4. What is the purpose of the `return` statement in a Python function?"
   ]
  },
  {
   "cell_type": "markdown",
   "metadata": {},
   "source": [
    "Ans. The return statement in a Python function is used to exit the function and send a value (or values) back to the caller. It serves several important purposes:\n",
    "\n",
    "1. Returning a Value:\n",
    "The primary purpose of the return statement is to provide a way for the function to output a result that can be used elsewhere in the code.\n",
    "When a function is called, the return statement provides the output that replaces the function call.\n",
    "\n",
    "2. Exiting the Function:\n",
    "The return statement also causes the function to terminate immediately. Any code written after the return statement within the function will not be executed."
   ]
  },
  {
   "cell_type": "markdown",
   "metadata": {},
   "source": [
    "5. What are iterators in Python and how do they differ from iterables?"
   ]
  },
  {
   "cell_type": "markdown",
   "metadata": {},
   "source": [
    "Ans. In Python, iterators and iterables are related concepts that are central to handling sequences of data, particularly in loops. Here's a breakdown of what each term means and how they differ:\n",
    "\n",
    "1. Iterables:\n",
    "Definition:\n",
    "An iterable is any Python object that can return an iterator. It is an object that can be iterated (looped) over.\n",
    "Examples of iterables include sequences like lists, tuples, strings, and also non-sequence collections like dictionaries and sets.\n",
    "Characteristics:\n",
    "__iter__() method: An object is considered iterable if it implements the __iter__() method, which returns an iterator.\n",
    "\n",
    "2. Iterators:\n",
    "Definition:\n",
    "An iterator is an object that represents a stream of data. It returns one element at a time when you call its __next__() method (or next() function in Python 2).\n",
    "An iterator is created from an iterable using the iter() function.\n",
    "Characteristics:\n",
    "__next__() method: An iterator must implement the __next__() method, which returns the next item in the sequence. When there are no more items to return, it raises a StopIteration exception.\n",
    "Stateful: Iterators maintain internal state, keeping track of where they are in the sequence.\n",
    "\n",
    "3. Key Differences Between Iterables and Iterators:\n",
    "Definition:\n",
    "\n",
    "An iterable is any object that can be iterated over (like lists, tuples, and strings).\n",
    "An iterator is an object that does the actual iteration over the iterable.\n",
    "Method Implementation:\n",
    "\n",
    "An iterable has an __iter__() method that returns an iterator.\n",
    "An iterator has both __iter__() (which returns itself) and __next__() methods.\n",
    "Usage:\n",
    "\n",
    "Iterables are typically used to represent collections of items, while iterators are used to traverse through these collections.\n",
    "When you use a for loop on an iterable, Python automatically calls iter() on the iterable to get an iterator, and then it repeatedly calls next() on the iterator to retrieve each element.\n",
    "State:\n",
    "\n",
    "Iterables do not maintain any state about the iteration. They simply provide a fresh iterator each time __iter__() is called.\n",
    "Iterators maintain the state of where they are in the sequence, so you can think of them as a pointer moving through the iterable."
   ]
  },
  {
   "cell_type": "markdown",
   "metadata": {},
   "source": [
    "6. Explain the concept of generators in Python and how they are defined."
   ]
  },
  {
   "cell_type": "markdown",
   "metadata": {},
   "source": [
    "Ans. Generators in Python are a special type of iterable, similar to iterators, that allow you to iterate over a sequence of values lazily, meaning they generate values on the fly and do not store the entire sequence in memory at once. This makes generators very memory-efficient, especially when working with large datasets.\n",
    "\n",
    "Key Concepts of Generators:\n",
    "Lazy Evaluation:\n",
    "\n",
    "Generators produce items one at a time only when requested, which is known as lazy evaluation. This is in contrast to lists, where all elements are stored in memory.\n",
    "This is particularly useful when dealing with large datasets or streams of data that don’t need to be fully loaded into memory.\n",
    "Yield Keyword:\n",
    "\n",
    "Generators are defined using a regular function but use the yield keyword instead of return to produce a value and pause the function’s execution. The function's state is preserved between each call to next() on the generator.\n",
    "When yield is encountered, the function’s state is saved, and the yielded value is returned to the caller. The function can be resumed from where it left off the next time it’s called.\n",
    "Memory Efficiency:\n",
    "\n",
    "Because generators yield items one at a time, they are much more memory-efficient than using a list to hold all items in memory at once."
   ]
  },
  {
   "cell_type": "markdown",
   "metadata": {},
   "source": [
    "7. What are the advantages of using generators over regular functions?"
   ]
  },
  {
   "cell_type": "markdown",
   "metadata": {},
   "source": [
    "Ans. Generators offer several advantages over regular functions, particularly in scenarios involving large data processing, memory management, and streamlining complex iterations. Here are the key advantages of using generators:\n",
    "\n",
    "1. Memory Efficiency:\n",
    "Lazy Evaluation: Generators produce items one at a time and only when needed, instead of generating and storing all values at once like a list or other collections. This lazy evaluation makes generators more memory-efficient, especially when dealing with large datasets or infinite sequences.\n",
    "No Need for Entire Data Storage: Since generators don’t need to store all items in memory, they are ideal for working with large data that can’t fit in memory all at once.\n",
    "\n",
    "2. Improved Performance:\n",
    "Faster Execution: Because generators yield values as needed, they can start producing output more quickly, making them faster in scenarios where not all data is required at once. This is in contrast to functions that return lists, where all processing must complete before any data is returned.\n",
    "Efficient Looping: In loops, generators can improve performance by providing values on-the-fly, reducing the time spent on generating and storing intermediate results.\n",
    "\n",
    "3. Handling Infinite Sequences:\n",
    "Support for Infinite Iteration: Generators are well-suited for generating infinite sequences where generating all elements upfront is impossible. Regular functions cannot handle infinite sequences since they would attempt to create an infinite list, leading to memory exhaustion."
   ]
  },
  {
   "cell_type": "markdown",
   "metadata": {},
   "source": [
    "8. What is a lambda function in Python and when is it typically used?"
   ]
  },
  {
   "cell_type": "markdown",
   "metadata": {},
   "source": [
    "Ans. A lambda function in Python is a small, anonymous function defined using the lambda keyword. It can have any number of arguments but only one expression. The expression is evaluated and returned when the function is called. Lambda functions are often used for short, simple operations where defining a full function using def would be unnecessarily verbose.\n",
    "\n",
    "Syntax of Lambda Functions:\n",
    "The basic syntax of a lambda function is:\n",
    "lambda: This keyword is used to create a lambda function.\n",
    "arguments: These are the inputs to the function, similar to the parameters in a regular function.\n",
    "expression: This is a single expression that the lambda function evaluates and returns.\n",
    "\n",
    "\n",
    "Typical Uses of Lambda Functions:\n",
    "Lambda functions are typically used in situations where a small, simple function is required for a short period, often as an argument to higher-order functions like map(), filter(), and sorted(). Here are some common use cases:\n",
    "\n",
    "1. As Arguments to Higher-Order Functions:\n",
    "map() Function:\n",
    "The map() function applies a given function to all items in an iterable (e.g., a list) and returns a map object (which is an iterator).\n",
    "\n",
    "filter() Function:\n",
    "The filter() function filters elements in an iterable based on a given function that returns True or False.\n",
    "\n",
    "Limitations of Lambda Functions:\n",
    "Single Expression Only: Lambda functions can only contain a single expression. This limits their use to simple operations.\n",
    "No Statements: Lambda functions cannot contain statements such as loops, if, else, try, except, etc.\n",
    "Less Readable for Complex Logic: While lambda functions are concise, they can make the code harder to read and understand if used for complex logic."
   ]
  },
  {
   "cell_type": "markdown",
   "metadata": {},
   "source": [
    "9. Explain the purpose and usage of the `map()` function in Python."
   ]
  },
  {
   "cell_type": "markdown",
   "metadata": {},
   "source": [
    "Ans. The map() function in Python is a built-in function that applies a given function to each item in an iterable (like a list, tuple, or string) and returns a map object (which is an iterator) containing the results. It's a powerful tool for transforming data by applying a specific operation across all elements of a collection without writing an explicit loop.\n",
    "\n",
    "Syntax of map(): \n",
    "function: A function that defines the operation to apply to each element in the iterable(s). This function can be a built-in function, a user-defined function, or a lambda function.\n",
    "iterable: One or more iterable(s) (e.g., lists, tuples, strings) whose elements you want to process with the function.\n",
    "\n",
    "\n",
    "How map() Works:\n",
    "The map() function applies the function to each element of the provided iterable(s) and returns an iterator of the results.\n",
    "If multiple iterables are provided, function should accept the same number of arguments as there are iterables. map() will then apply the function to the corresponding elements of each iterable."
   ]
  },
  {
   "cell_type": "markdown",
   "metadata": {},
   "source": [
    "10. What is the difference between `map()`, `reduce()`, and `filter()` functions in Python?"
   ]
  },
  {
   "cell_type": "markdown",
   "metadata": {},
   "source": [
    "Ans. The map(), reduce(), and filter() functions in Python are higher-order functions that operate on iterables (like lists, tuples, etc.) and allow for functional-style programming. Each of these functions has a distinct purpose and behavior.\n",
    "\n",
    "1. map() Function:\n",
    "Purpose: The map() function applies a given function to each item in an iterable (or iterables) and returns an iterator that yields the results.\n",
    "\n",
    "Operation: It transforms each element in the iterable(s) by applying the provided function.\n",
    "\n",
    "2. reduce() Function:\n",
    "Purpose: The reduce() function, from the functools module, applies a binary function (a function that takes two arguments) cumulatively to the items of an iterable, reducing the iterable to a single value.\n",
    "\n",
    "Operation: It processes the iterable by applying the function cumulatively, typically for operations like summing, multiplying, or concatenating items.\n",
    "\n",
    "3. filter() Function:\n",
    "Purpose: The filter() function applies a predicate function (a function that returns a boolean) to each item in an iterable and returns an iterator yielding only the elements for which the predicate is True.\n",
    "\n",
    "Operation: It filters the elements in the iterable based on the condition defined in the predicate function."
   ]
  },
  {
   "cell_type": "markdown",
   "metadata": {},
   "source": [
    "11. Using pen & Paper write the internal mechanism for sum operation using  reduce function on this given\n",
    "list:[47,11,42,13];"
   ]
  },
  {
   "cell_type": "code",
   "execution_count": 13,
   "metadata": {},
   "outputs": [
    {
     "name": "stdout",
     "output_type": "stream",
     "text": [
      "113\n"
     ]
    }
   ],
   "source": [
    "from functools import reduce\n",
    "\n",
    "lis = [47,11,42,13]\n",
    "sum_lis= reduce(lambda x, y:x+y, lis)\n",
    "print(sum_lis)"
   ]
  },
  {
   "cell_type": "markdown",
   "metadata": {},
   "source": [
    "in above code lis is iterable and 'lambda x, y:x+y' is function. reduce function executed lambda function for each pair of iterable lis.\n",
    "for first iteration \n",
    "x=47\n",
    "y=11\n",
    "x+y=58\n",
    "for second iteration\n",
    "x=58\n",
    "y=42\n",
    "x+y=100\n",
    "for third iteration\n",
    "x=100\n",
    "y=13\n",
    "x+y=113\n",
    "\n",
    "finally there is no more digit so output will be 113."
   ]
  },
  {
   "cell_type": "markdown",
   "metadata": {},
   "source": [
    "12. Write a Python function that takes a list of numbers as input and returns the sum of all even numbers in\n",
    "the list."
   ]
  },
  {
   "cell_type": "code",
   "execution_count": 14,
   "metadata": {},
   "outputs": [],
   "source": [
    "def even_sum(list):\n",
    "    total=0\n",
    "    for i in list:\n",
    "        if i%2==0:\n",
    "            total=total+i\n",
    "\n",
    "    return total"
   ]
  },
  {
   "cell_type": "markdown",
   "metadata": {},
   "source": [
    "13. Create a Python function that accepts a string and returns the reverse of that string."
   ]
  },
  {
   "cell_type": "code",
   "execution_count": 16,
   "metadata": {},
   "outputs": [],
   "source": [
    "def rev_str(strings):\n",
    "    x=strings[::-1]\n",
    "    return x"
   ]
  },
  {
   "cell_type": "markdown",
   "metadata": {},
   "source": [
    "14.  Implement a Python function that takes a list of integers and returns a new list containing the squares of\n",
    "each number."
   ]
  },
  {
   "cell_type": "code",
   "execution_count": 18,
   "metadata": {},
   "outputs": [],
   "source": [
    "def squar(lis):\n",
    "    x=[i*i for i in lis]\n",
    "    return x"
   ]
  },
  {
   "cell_type": "markdown",
   "metadata": {},
   "source": [
    "15. Write a Python function that checks if a given number is prime or not from 1 to 200."
   ]
  },
  {
   "cell_type": "code",
   "execution_count": 32,
   "metadata": {},
   "outputs": [],
   "source": [
    "def prime_number(num):\n",
    "    a=1\n",
    "    for i in range (num-2):\n",
    "        if num%(num-a)==0:\n",
    "            x=1\n",
    "            break\n",
    "        else:\n",
    "            x=0\n",
    "        a+=1\n",
    "    return x \n",
    "\n",
    "def check_prime(number):\n",
    "    \n",
    "\n",
    "    if prime_number(number)==0:\n",
    "        print(f\"{number} is a prime number\")\n",
    "    else:\n",
    "        print(f\"{number} isn't a prime number\")\n"
   ]
  },
  {
   "cell_type": "markdown",
   "metadata": {},
   "source": [
    "16. Create an iterator class in Python that generates the Fibonacci sequence up to a specified number of\n",
    "terms."
   ]
  },
  {
   "cell_type": "code",
   "execution_count": 48,
   "metadata": {},
   "outputs": [],
   "source": [
    "def fibonacci_series(number):\n",
    "    z=[0,1]\n",
    "    a=0\n",
    "    b=1\n",
    "    for i in range (2, number):\n",
    "        \n",
    "        fit=a+b\n",
    "        z.append(fit)\n",
    "        yield z\n",
    "        a=b\n",
    "        b=a+b\n"
   ]
  },
  {
   "cell_type": "markdown",
   "metadata": {},
   "source": [
    "17.  Write a generator function in Python that yields the powers of 2 up to a given exponent."
   ]
  },
  {
   "cell_type": "code",
   "execution_count": 53,
   "metadata": {},
   "outputs": [],
   "source": [
    "def power_func(number):\n",
    "    for i in range(1, number+1):\n",
    "        yield 2**i"
   ]
  },
  {
   "cell_type": "code",
   "execution_count": null,
   "metadata": {},
   "outputs": [],
   "source": [
    "18.  Implement a generator function that reads a file line by line and yields each line as a string."
   ]
  },
  {
   "cell_type": "code",
   "execution_count": null,
   "metadata": {},
   "outputs": [],
   "source": [
    "def read_file_line_by_line(file_path):\n",
    "    with open(file_path, 'r') as file:  # Open the file in read mode\n",
    "        for line in file:  # Iterate over each line in the file\n",
    "            yield line.strip()  # Yield the line after stripping whitespace\n",
    "\n",
    "# Example usage:\n",
    "file_path = 'example.txt'  # Replace with your file path\n",
    "for line in read_file_line_by_line(file_path):\n",
    "    print(line)  # Process each line as needed\n"
   ]
  },
  {
   "cell_type": "markdown",
   "metadata": {},
   "source": [
    "19. Use a lambda function in Python to sort a list of tuples based on the second element of each tuple."
   ]
  },
  {
   "cell_type": "code",
   "execution_count": null,
   "metadata": {},
   "outputs": [],
   "source": [
    "# List of tuples\n",
    "data = [(1, 'banana'), (2, 'apple'), (3, 'cherry'), (4, 'date')]\n",
    "\n",
    "# Sort the list of tuples based on the second element of each tuple\n",
    "sorted_data = sorted(data, key=lambda x: x[1])\n",
    "\n",
    "# Print the sorted list\n",
    "print(sorted_data)  # Output: [(2, 'apple'), (4, 'date'), (1, 'banana'), (3, 'cherry')]\n"
   ]
  },
  {
   "cell_type": "markdown",
   "metadata": {},
   "source": [
    "20. Write a Python program that uses `map()` to convert a list of temperatures from Celsius to Fahrenheit."
   ]
  },
  {
   "cell_type": "code",
   "execution_count": 59,
   "metadata": {},
   "outputs": [
    {
     "name": "stdout",
     "output_type": "stream",
     "text": [
      "[68.0, 77.0, 71.6, 80.6, 95.0, 104.0]\n"
     ]
    }
   ],
   "source": [
    "temp=[20, 25, 22,27,35,40]\n",
    "far=list(map(lambda x:(x*9/5)+32, temp))\n",
    "print(far)"
   ]
  },
  {
   "cell_type": "markdown",
   "metadata": {},
   "source": [
    "21. Create a Python program that uses `filter()` to remove all the vowels from a given string."
   ]
  },
  {
   "cell_type": "code",
   "execution_count": 79,
   "metadata": {},
   "outputs": [
    {
     "name": "stdout",
     "output_type": "stream",
     "text": [
      "yshmnkshyp\n"
     ]
    }
   ],
   "source": [
    "a='ayushmankashyap'\n",
    "\n",
    "def vowel(i):\n",
    "    strings=''\n",
    "    if i!='a' and i!='e' and i!='i' and i!='o' and i!='u':\n",
    "        strings= i+strings\n",
    "    else:\n",
    "        strings=strings\n",
    "\n",
    "    return strings\n",
    "\n",
    "x= filter (vowel, a )\n",
    "#x=list(x)\n",
    "x=''.join(x)\n",
    "\n",
    "print(x)"
   ]
  },
  {
   "cell_type": "markdown",
   "metadata": {},
   "source": [
    "22.  Imagine an accounting routine used in a book shop. It works on a list with sublists, which look like this:\n",
    "\n",
    "\n",
    "\n",
    "\n",
    "\n",
    "\n",
    "\n",
    "Write a Python program, which returns a list with 2-tuples. Each tuple consists of the order number and the\n",
    "product of the price per item and the quantity. The product should be increased by 10,- € if the value of the\n",
    "order is smaller than 100,00 €.\n",
    "\n",
    "Write a Python program using lambda and map."
   ]
  },
  {
   "cell_type": "code",
   "execution_count": null,
   "metadata": {},
   "outputs": [],
   "source": [
    "# Sample data representing orders (order_number, price_per_item, quantity)\n",
    "orders = [\n",
    "    [1, 15.00, 2],  # Order 1: 2 items at €15 each\n",
    "    [2, 30.00, 3],  # Order 2: 3 items at €30 each\n",
    "    [3, 50.00, 1],  # Order 3: 1 item at €50\n",
    "    [4, 5.00, 5],   # Order 4: 5 items at €5 each\n",
    "    [5, 100.00, 1]  # Order 5: 1 item at €100\n",
    "]\n",
    "\n",
    "# Function to calculate order value\n",
    "def calculate_order_value(order):\n",
    "    order_number, price_per_item, quantity = order\n",
    "    total_value = price_per_item * quantity\n",
    "    # Add €10 if total value is less than €100\n",
    "    if total_value < 100:\n",
    "        total_value += 10\n",
    "    return (order_number, total_value)\n",
    "\n",
    "# Use map to apply the function to each order\n",
    "result = list(map(calculate_order_value, orders))\n",
    "\n",
    "# Print the result\n",
    "print(result)\n"
   ]
  }
 ],
 "metadata": {
  "kernelspec": {
   "display_name": "Python 3",
   "language": "python",
   "name": "python3"
  },
  "language_info": {
   "codemirror_mode": {
    "name": "ipython",
    "version": 3
   },
   "file_extension": ".py",
   "mimetype": "text/x-python",
   "name": "python",
   "nbconvert_exporter": "python",
   "pygments_lexer": "ipython3",
   "version": "3.12.4"
  }
 },
 "nbformat": 4,
 "nbformat_minor": 2
}
