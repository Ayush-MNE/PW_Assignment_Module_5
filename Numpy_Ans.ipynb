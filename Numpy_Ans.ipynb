{
 "cells": [
  {
   "cell_type": "markdown",
   "metadata": {},
   "source": [
    "1. Explain the purpose and advantages of NumPy in scientific computing and data analysis. How does it\n",
    "enhance Python's capabilities for numerical operations?"
   ]
  },
  {
   "cell_type": "markdown",
   "metadata": {},
   "source": [
    "Ans. NumPy (Numerical Python) is a fundamental library for scientific computing in Python, providing powerful capabilities for numerical operations and data analysis. Here’s an overview of its purpose, advantages, and how it enhances Python’s capabilities:\n",
    "\n",
    "Purpose of NumPy\n",
    "Numerical Computing: NumPy is designed for efficient numerical computing. It provides support for large, multi-dimensional arrays and matrices, as well as a wide range of mathematical functions to operate on these arrays.\n",
    "\n",
    "Data Analysis: NumPy is a key component in the data analysis ecosystem. It forms the basis for other scientific computing libraries in Python, such as SciPy, pandas, and scikit-learn.\n",
    "\n",
    "Advantages of NumPy\n",
    "Performance:\n",
    "\n",
    "Efficient Array Operations: NumPy arrays (ndarray) are implemented in C, which makes them significantly faster than Python's built-in lists for numerical operations. Operations on NumPy arrays are performed in compiled code, which is highly optimized for performance.\n",
    "Vectorization: NumPy supports vectorized operations, allowing you to apply operations to entire arrays without explicit loops. This leads to more concise and efficient code.\n",
    "Multidimensional Arrays:\n",
    "\n",
    "Array Object (ndarray): NumPy provides the ndarray object, which supports multi-dimensional arrays. This is crucial for scientific computing tasks that require handling of matrices, tensors, and higher-dimensional data.\n",
    "Shape and Broadcasting: NumPy arrays support broadcasting, which allows for operations between arrays of different shapes in a flexible and efficient manner.\n",
    "Mathematical Functions:\n",
    "\n",
    "Comprehensive Library: NumPy includes a wide range of mathematical functions, including linear algebra, statistical, and Fourier transform operations. This makes it a versatile tool for a variety of numerical tasks.\n",
    "Integration with C/C++: NumPy provides tools to interface with C and C++ code, enabling integration with high-performance computing libraries.\n",
    "Ease of Use:\n",
    "\n",
    "Concise Syntax: NumPy’s syntax for array operations is concise and expressive. It simplifies complex numerical computations and data manipulations with minimal code.\n",
    "Rich Functionality: Functions for mathematical operations, random number generation, and array manipulation make NumPy a comprehensive library for scientific computing.\n",
    "Interoperability:\n",
    "\n",
    "Integration with Other Libraries: NumPy serves as the foundational library for other scientific computing libraries like SciPy (for advanced scientific computations), pandas (for data analysis and manipulation), and scikit-learn (for machine learning). This integration allows for a seamless workflow between different tools and libraries.\n",
    "Community and Documentation:\n",
    "\n",
    "Active Community: NumPy has a large and active community that contributes to its development, ensuring continuous improvement and support.\n",
    "Extensive Documentation: Comprehensive documentation and numerous tutorials make it easier for users to learn and effectively utilize NumPy.\n",
    "How NumPy Enhances Python’s Capabilities\n",
    "Speed and Efficiency: NumPy’s array operations are implemented in C, providing performance improvements over Python’s built-in data structures. This is particularly important for large-scale data computations.\n",
    "\n",
    "Support for Large Data Sets: NumPy’s array structures can handle large data sets efficiently, which is essential for scientific and data analysis tasks that involve big data.\n",
    "\n",
    "Advanced Mathematical Operations: NumPy provides built-in support for a wide range of mathematical operations, which would otherwise require complex implementations in pure Python.\n",
    "\n",
    "Foundation for Scientific Computing: NumPy forms the backbone for many other scientific computing libraries. Its array handling capabilities and mathematical functions make it an indispensable tool in the scientific Python ecosystem.\n",
    "\n",
    "In summary, NumPy is crucial for scientific computing and data analysis in Python due to its performance, functionality, and integration with other libraries. It enhances Python’s capabilities by providing efficient numerical operations, multi-dimensional array handling, and a rich set of mathematical functions.\n"
   ]
  },
  {
   "cell_type": "markdown",
   "metadata": {},
   "source": [
    "2. Compare and contrast np.mean() and np.average() functions in NumPy. When would you use one over the\n",
    "other?"
   ]
  },
  {
   "cell_type": "markdown",
   "metadata": {},
   "source": [
    "Ans. Both np.mean() and np.average() functions in NumPy are used to calculate the average of elements in an array, but they have some key differences in their capabilities and usage. Here’s a comparison of the two functions:\n",
    "\n",
    "Summary of Differences\n",
    "Functionality:\n",
    "\n",
    "np.mean(): Computes the arithmetic mean of the elements in an array.\n",
    "np.average(): Computes the weighted average if weights are provided, otherwise it computes the arithmetic mean.\n",
    "Weights:\n",
    "\n",
    "np.mean(): Does not support weights.\n",
    "np.average(): Supports weights, allowing for a weighted average calculation.\n",
    "Additional Outputs:\n",
    "\n",
    "np.mean(): Returns only the mean.\n",
    "np.average(): Can return both the average and the sum of weights (if returned=True).\n",
    "When to Use Which\n",
    "np.mean(): Use this when you need a straightforward average calculation without considering weights. It’s more concise and sufficient for many typical averaging tasks.\n",
    "np.average(): Use this when you need to calculate a weighted average or when you require the additional information about the weights. It provides more flexibility in terms of averaging with different significance for each element.\n",
    "Both functions are useful tools for different scenarios in data analysis and numerical computations."
   ]
  },
  {
   "cell_type": "markdown",
   "metadata": {},
   "source": [
    "3. Describe the methods for reversing a NumPy array along different axes. Provide examples for 1D and 2D\n",
    "arrays."
   ]
  },
  {
   "cell_type": "markdown",
   "metadata": {},
   "source": [
    "Ans. Reversing a 1D Array:\n",
    "\n",
    "[::-1]: This slice notation means to take the array elements in reverse order.\n",
    "\n",
    "\n",
    "Reversing a 2D Array:\n",
    "\n",
    "Reversing along the first axis (rows): Use [::-1, :] to reverse the rows of the array. The colon : indicates that all columns should be included.\n",
    "Reversing along the second axis (columns): Use [:, ::-1] to reverse the columns of the array. The colon : indicates that all rows should be included.\n",
    "Reversing along both axes: Use [::-1, ::-1] to reverse the array along both dimensions. This reverses the order of both rows and columns.\n",
    "Additional Notes\n",
    "The slicing method ([::-1]) works for arrays of any dimensionality, but you need to specify the appropriate axis for multidimensional arrays.\n",
    "Reversing along axes is commonly used in various applications such as data manipulation, image processing, and analysis."
   ]
  },
  {
   "cell_type": "markdown",
   "metadata": {},
   "source": [
    "4. How can you determine the data type of elements in a NumPy array? Discuss the importance of data types\n",
    "in memory management and performance."
   ]
  },
  {
   "cell_type": "markdown",
   "metadata": {},
   "source": [
    "Ans. Determining the data type of elements in a NumPy array is essential for understanding how data is stored and processed. NumPy provides several methods for checking and managing data types, which significantly impact memory management and performance.\n",
    "\n",
    "Determining the Data Type of Elements\n",
    "You can determine the data type of elements in a NumPy array using the 'dtype' attribute.\n",
    "\n",
    "Importance of Data Types\n",
    "Memory Management:\n",
    "\n",
    "Efficient Storage: Different data types use different amounts of memory. For example, int32 uses 4 bytes per element, while int64 uses 8 bytes. Choosing the appropriate data type can significantly reduce memory usage, especially for large arrays.\n",
    "Precision vs. Memory: For floating-point numbers, float32 and float64 represent 32-bit and 64-bit precision, respectively. Higher precision requires more memory. Depending on the application, you may choose float32 for less precision and lower memory usage or float64 for more precision.\n",
    "Performance:\n",
    "\n",
    "Computational Efficiency: Operations on arrays with smaller data types (e.g., int8 vs. int64) can be faster because less data needs to be processed. However, some operations may be optimized for specific data types, so the choice of data type can impact performance.\n",
    "Hardware Optimization: Modern processors are optimized for certain data types. For example, many processors handle 32-bit integers more efficiently than 64-bit integers. Using the appropriate data type can leverage these hardware optimizations.\n",
    "Compatibility:\n",
    "\n",
    "Interoperability: Data types affect how data is shared between different libraries and systems. Ensuring compatibility between data types when interfacing with other libraries or systems is crucial for accurate and efficient data processing.\n",
    "Consistency: Maintaining consistent data types across arrays helps avoid issues related to data conversion and ensures consistent behavior in calculations."
   ]
  },
  {
   "cell_type": "markdown",
   "metadata": {},
   "source": [
    "5. Define ndarrays in NumPy and explain their key features. How do they differ from standard Python lists?"
   ]
  },
  {
   "cell_type": "markdown",
   "metadata": {},
   "source": [
    "Ans. In NumPy, ndarray (short for n-dimensional array) is the central data structure for numerical computations. It provides a powerful and efficient way to store and manipulate large datasets. Here’s a detailed overview of ndarray, its key features, and how it differs from standard Python lists:\n",
    "\n",
    "Definition of ndarray\n",
    "ndarray is a multidimensional array object that can hold elements of the same data type. It supports a variety of operations, including mathematical computations, logical operations, and data manipulation.\n",
    "\n",
    "Key Features of ndarray\n",
    "Homogeneous Data:\n",
    "\n",
    "Uniform Type: All elements in an ndarray are of the same data type, which allows for efficient storage and operations. This contrasts with Python lists, which can contain elements of different types.\n",
    "Multidimensional:\n",
    "\n",
    "Axes and Dimensions: ndarray supports multiple dimensions (axes). You can create 1D, 2D, 3D, or even higher-dimensional arrays. For example, a 2D array can be seen as a matrix, and a 3D array can be visualized as a stack of matrices.\n",
    "Shape: The shape of an ndarray is represented as a tuple of integers, specifying the size along each dimension (e.g., (3, 4) for a 2D array with 3 rows and 4 columns).\n",
    "Efficient Operations:\n",
    "\n",
    "Vectorization: ndarray supports vectorized operations, allowing element-wise operations without explicit loops. This leads to more concise and faster code.\n",
    "Broadcasting: Enables operations between arrays of different shapes by automatically expanding the dimensions of smaller arrays to match larger ones.\n",
    "Mathematical and Statistical Functions:\n",
    "\n",
    "Built-in Functions: NumPy provides a wide range of mathematical and statistical functions that can be applied to ndarray, including mean, median, standard deviation, and more.\n",
    "Memory Efficiency:\n",
    "\n",
    "Compact Storage: ndarray uses contiguous memory allocation for storing elements, which reduces overhead and improves performance compared to Python lists.\n",
    "Indexing and Slicing:\n",
    "\n",
    "Advanced Indexing: Supports slicing, boolean indexing, and advanced indexing, providing powerful tools for accessing and modifying array elements.\n",
    "Data Type Specification:\n",
    "\n",
    "dtype: Each ndarray has an associated dtype (data type) that specifies the type of elements it holds, such as int32, float64, etc. This enables efficient storage and operations tailored to specific types.\n",
    "Differences from Standard Python Lists\n",
    "Data Type:\n",
    "\n",
    "ndarray: Elements are of the same data type, allowing for optimized operations and memory usage.\n",
    "Python Lists: Can contain elements of different data types, leading to potential inefficiencies in operations and memory usage.\n",
    "Performance:\n",
    "\n",
    "ndarray: Optimized for numerical operations and large-scale data processing. Operations are implemented in C and are typically faster.\n",
    "Python Lists: Slower for numerical operations due to their flexibility in handling different data types and lack of specialized optimizations.\n",
    "Multidimensional Support:\n",
    "\n",
    "ndarray: Supports multidimensional arrays (e.g., 2D matrices, 3D tensors) with operations defined across axes.\n",
    "Python Lists: Standard lists are 1D, but you can create nested lists to mimic multidimensional arrays, which is less efficient and lacks native support for multidimensional operations.\n",
    "Operations:\n",
    "\n",
    "ndarray: Supports vectorized operations, broadcasting, and mathematical functions directly.\n",
    "Python Lists: Operations on lists require explicit loops or list comprehensions, and mathematical functions must be applied element-wise manually.\n",
    "Memory Layout:\n",
    "\n",
    "ndarray: Uses contiguous memory allocation, which is more efficient for numerical operations.\n",
    "Python Lists: Elements are stored as references in a dynamically allocated structure, leading to more overhead."
   ]
  },
  {
   "cell_type": "markdown",
   "metadata": {},
   "source": [
    "6. Analyze the performance benefits of NumPy arrays over Python lists for large-scale numerical operations."
   ]
  },
  {
   "cell_type": "markdown",
   "metadata": {},
   "source": [
    "Ans. ndarray: Optimized for numerical operations and large-scale data processing. Operations are implemented in C and are typically faster.\n",
    "Python Lists: Slower for numerical operations due to their flexibility in handling different data types and lack of specialized optimizations.\n",
    "Multidimensional Support:\n",
    "\n",
    "ndarray: Supports multidimensional arrays (e.g., 2D matrices, 3D tensors) with operations defined across axes.\n",
    "Python Lists: Standard lists are 1D, but you can create nested lists to mimic multidimensional arrays, which is less efficient and lacks native support for multidimensional operations.\n",
    "Operations:\n",
    "\n",
    "ndarray: Supports vectorized operations, broadcasting, and mathematical functions directly.\n",
    "Python Lists: Operations on lists require explicit loops or list comprehensions, and mathematical functions must be applied element-wise manually.\n",
    "Memory Layout:\n",
    "\n",
    "ndarray: Uses contiguous memory allocation, which is more efficient for numerical operations.\n",
    "Python Lists: Elements are stored as references in a dynamically allocated structure, leading to more overhead."
   ]
  },
  {
   "cell_type": "markdown",
   "metadata": {},
   "source": [
    "7. Compare vstack() and hstack() functions in NumPy. Provide examples demonstrating their usage and\n",
    "output."
   ]
  },
  {
   "cell_type": "markdown",
   "metadata": {},
   "source": [
    "Ans. In NumPy, vstack() and hstack() are functions used to stack arrays vertically and horizontally, respectively. They allow you to combine arrays along different axes. Here’s a comparison of these functions, including examples and their outputs:\n",
    "\n",
    "numpy.vstack()\n",
    "Purpose: Stacks arrays vertically (row-wise). This function concatenates arrays along the first axis (axis=0), resulting in a new array with the arrays placed on top of each other.\n",
    "\n",
    "numpy.hstack()\n",
    "Purpose: Stacks arrays horizontally (column-wise). This function concatenates arrays along the second axis (axis=1), resulting in a new array with the arrays placed side by side."
   ]
  },
  {
   "cell_type": "code",
   "execution_count": null,
   "metadata": {},
   "outputs": [],
   "source": [
    "import numpy as np\n",
    "\n",
    "# Create two 2D arrays\n",
    "arr1 = np.array([[1, 2, 3],\n",
    "                 [4, 5, 6]])\n",
    "\n",
    "arr2 = np.array([[7, 8, 9],\n",
    "                 [10, 11, 12]])\n",
    "\n",
    "# Stack arrays vertically\n",
    "result_vstack = np.vstack((arr1, arr2))\n",
    "\n",
    "print(\"Array 1:\\n\", arr1)\n",
    "print(\"Array 2:\\n\", arr2)\n",
    "print(\"Result of vstack:\\n\", result_vstack)\n",
    "'''Array 1:\n",
    " [[1 2 3]\n",
    "  [4 5 6]]\n",
    "Array 2:\n",
    " [[ 7  8  9]\n",
    "  [10 11 12]]\n",
    "Result of vstack:\n",
    " [[ 1  2  3]\n",
    "  [ 4  5  6]\n",
    "  [ 7  8  9]\n",
    "  [10 11 12]]'''\n",
    "\n",
    "# Stack arrays horizontally\n",
    "result_vstack = np.hstack((arr1, arr2))\n",
    "\n",
    "print(\"Array 1:\\n\", arr1)\n",
    "print(\"Array 2:\\n\", arr2)\n",
    "print(\"Result of vstack:\\n\", result_vstack)\n",
    "\n",
    "'''Array 1:\n",
    " [[1 2 3]\n",
    "  [4 5 6]]\n",
    "Array 2:\n",
    " [[ 7  8  9]\n",
    "  [10 11 12]]\n",
    "Result of hstack:\n",
    " [[ 1  2  3  7  8  9]\n",
    "  [ 4  5  6 10 11 12]]'''"
   ]
  },
  {
   "cell_type": "markdown",
   "metadata": {},
   "source": [
    "8. Explain the differences between fliplr() and flipud() methods in NumPy, including their effects on various\n",
    "array dimensions."
   ]
  },
  {
   "cell_type": "markdown",
   "metadata": {},
   "source": [
    "Ans.In NumPy, fliplr() and flipud() are methods used to reverse the order of elements in an array along specific axes. These functions are useful for various data manipulations and visualizations. Here’s a detailed comparison of their effects and how they operate on different array dimensions:\n",
    "\n",
    "numpy.fliplr()\n",
    "Purpose: Flips an array left-to-right along the second axis (columns) for 2D arrays.\n",
    "Parameters:\n",
    "\n",
    "m: Input array, which should be at least 2-dimensional.\n",
    "Effect:\n",
    "\n",
    "For 2D arrays, fliplr() reverses the order of elements in each row, effectively flipping the array horizontally.\n",
    "For 1D arrays or arrays with more than 2 dimensions, fliplr() operates on the last two dimensions (i.e., it treats the last two dimensions as 2D arrays and flips them left-to-right).\n",
    "\n",
    "numpy.flipud()\n",
    "Purpose: Flips an array up-to-down along the first axis (rows) for 2D arrays.\n",
    "\n",
    "Parameters:\n",
    "\n",
    "m: Input array, which should be at least 2-dimensional.\n",
    "Effect:\n",
    "\n",
    "For 2D arrays, flipud() reverses the order of rows, effectively flipping the array vertically.\n",
    "For 1D arrays or arrays with more than 2 dimensions, flipud() operates on the first two dimensions (i.e., it treats the first two dimensions as 2D arrays and flips them up-to-down)."
   ]
  },
  {
   "cell_type": "markdown",
   "metadata": {},
   "source": [
    "9. Discuss the functionality of the array_split() method in NumPy. How does it handle uneven splits?"
   ]
  },
  {
   "cell_type": "markdown",
   "metadata": {},
   "source": [
    "Ans. The array_split() method in NumPy is a versatile function used to split an array into multiple sub-arrays. It allows for flexible splitting, even when the array cannot be evenly divided. Here’s a detailed discussion of its functionality and how it handles uneven splits:\n",
    "\n",
    "numpy.array_split()\n",
    "Purpose: Splits an array into multiple sub-arrays along a specified axis. The function can handle cases where the array does not split evenly, distributing elements as evenly as possible.\n",
    "\n",
    "Parameters:\n",
    "\n",
    "ary: The input array to be split.\n",
    "indices_or_sections: Defines how to split the array. It can be:\n",
    "An integer: Number of equal sections to split the array into.\n",
    "A 1D array of indices: Specifies where to split the array.\n",
    "axis: Axis along which to split the array (default is 0).\n",
    "Return Value:\n",
    "\n",
    "A list of sub-arrays, where each sub-array is a portion of the original array. The number of sub-arrays depends on the value of indices_or_sections and how the elements are distributed.\n",
    "\n",
    "Handling Uneven Splits\n",
    "When splitting an array into sections that are not evenly divisible, array_split() handles the uneven distribution by allocating elements as evenly as possible among the sub-arrays. The function ensures that the number of elements in each sub-array differs by at most one.\n",
    "\n",
    "Summary\n",
    "Functionality: array_split() splits an array into multiple sub-arrays along a specified axis, handling cases where the array cannot be evenly divided.\n",
    "Uneven Splits: When the array cannot be evenly split, array_split() distributes elements as evenly as possible, ensuring that each sub-array differs by at most one element.\n",
    "Flexibility: The method can split arrays into equal sections or at specific indices, and it supports splitting along any axis for multidimensional arrays.\n",
    "Understanding how to use array_split() allows for flexible data manipulation and can be particularly useful for dividing datasets into manageable chunks or for data processing tasks."
   ]
  },
  {
   "cell_type": "markdown",
   "metadata": {},
   "source": [
    "10. Explain the concepts of vectorization and broadcasting in NumPy. How do they contribute to efficient array\n",
    "operations?"
   ]
  },
  {
   "cell_type": "markdown",
   "metadata": {},
   "source": [
    "Ans. Vectorization and broadcasting are two key concepts in NumPy that significantly enhance the efficiency of array operations and numerical computations. Here’s a detailed explanation of each concept and how they contribute to efficient array operations:\n",
    "\n",
    "Vectorization\n",
    "Concept: Vectorization refers to the process of applying operations to entire arrays (or large chunks of data) at once, rather than using explicit loops. This approach leverages optimized low-level implementations and parallel processing to perform operations efficiently.\n",
    "\n",
    "Key Points:\n",
    "\n",
    "Element-Wise Operations: With vectorization, operations are applied element-wise to arrays. For example, adding two arrays together will perform the addition operation on each corresponding pair of elements without the need for an explicit loop.\n",
    "\n",
    "Efficiency: Vectorized operations are typically implemented in C and use highly optimized routines, making them faster than equivalent operations written using Python loops. They also take advantage of modern CPU architectures and vectorized instructions.\n",
    "\n",
    "Simplicity: Vectorization allows for concise and readable code. Instead of writing complex loops, you can perform operations with simple array expressions.\n",
    "\n",
    "Broadcasting\n",
    "Concept: Broadcasting is a technique that allows NumPy to perform operations on arrays of different shapes and dimensions by automatically expanding the smaller array to match the shape of the larger array. This technique avoids the need for explicit replication of data and enables operations between arrays with different shapes.\n",
    "\n",
    "Key Points:\n",
    "\n",
    "Compatibility: Broadcasting enables operations between arrays that do not have the same dimensions. It works by aligning the shapes of the arrays in a way that they are compatible for element-wise operations.\n",
    "\n",
    "Rules: The broadcasting rules are:\n",
    "\n",
    "If arrays have different numbers of dimensions, the smaller-dimensional array is padded with ones on the left.\n",
    "Dimensions of the arrays are compared element-wise from the trailing dimensions. Two dimensions are compatible if they are equal or one of them is 1.\n",
    "Arrays are broadcast to the shape of the larger array.\n",
    "Efficiency: Broadcasting avoids the overhead of creating large temporary arrays by performing operations directly on the input arrays with the appropriate shape. This reduces memory usage and improves performance."
   ]
  },
  {
   "cell_type": "markdown",
   "metadata": {},
   "source": [
    "1. Create a 3x3 NumPy array with random integers between 1 and 100. Then, interchange its rows and columns."
   ]
  },
  {
   "cell_type": "code",
   "execution_count": null,
   "metadata": {},
   "outputs": [],
   "source": [
    "import numpy as np\n",
    "\n",
    "arr=np.random.randint(1,100,(3,3))\n",
    "new_arr=np.transpose(arr)\n",
    "print(new_arr)"
   ]
  },
  {
   "cell_type": "markdown",
   "metadata": {},
   "source": [
    "2. Generate a 1D NumPy array with 10 elements. Reshape it into a 2x5 array, then into a 5x2 array."
   ]
  },
  {
   "cell_type": "code",
   "execution_count": null,
   "metadata": {},
   "outputs": [],
   "source": [
    "import numpy as np\n",
    "\n",
    "arr=np.random.rand(10)\n",
    "new_arr=np.reshape(arr,(2,5))\n",
    "print(new_arr)\n",
    "final_arr=np.reshape(new_arr,(5,2))\n",
    "print(final_arr)"
   ]
  },
  {
   "cell_type": "markdown",
   "metadata": {},
   "source": [
    "3. Create a 4x4 NumPy array with random float values. Add a border of zeros around it, resulting in a 6x6 array."
   ]
  },
  {
   "cell_type": "code",
   "execution_count": null,
   "metadata": {},
   "outputs": [],
   "source": [
    "import numpy as np\n",
    "arr=np.random.randn(4,4)\n",
    "arr=np.pad(arr, pad_width=1, mode='constant',constant_values=0)\n",
    "print(arr)\n"
   ]
  },
  {
   "cell_type": "markdown",
   "metadata": {},
   "source": [
    "4. Using NumPy, create an array of integers from 10 to 60 with a step of 5."
   ]
  },
  {
   "cell_type": "code",
   "execution_count": null,
   "metadata": {},
   "outputs": [],
   "source": [
    "import numpy as np\n",
    "arr=np.arange(10,61,5)\n",
    "print(arr)"
   ]
  },
  {
   "cell_type": "markdown",
   "metadata": {},
   "source": [
    "5. Create a NumPy array of strings ['python', 'numpy', 'pandas']. Apply different case transformations\n",
    "(uppercase, lowercase, title case, etc.) to each element."
   ]
  },
  {
   "cell_type": "code",
   "execution_count": null,
   "metadata": {},
   "outputs": [],
   "source": [
    "import numpy as np \n",
    "x=['python', 'numpy', 'pandas']\n",
    "arr= np.array(x)\n",
    "arr_t=np.char.title(arr)\n",
    "print(arr_t)\n",
    "arr_u=np.char.upper(arr)\n",
    "print(arr_u)\n",
    "arr_l=np.char.lower(arr)\n",
    "print(arr_l)\n"
   ]
  },
  {
   "cell_type": "markdown",
   "metadata": {},
   "source": [
    "6. Generate a NumPy array of words. Insert a space between each character of every word in the array."
   ]
  },
  {
   "cell_type": "code",
   "execution_count": null,
   "metadata": {},
   "outputs": [],
   "source": [
    "import numpy as np\n",
    "words=input('please enter you words by space seperated').strip().split(' ')\n",
    "arr=np.array(words)\n",
    "arr=np.char.join(' ',arr)\n",
    "print(arr)"
   ]
  },
  {
   "cell_type": "markdown",
   "metadata": {},
   "source": [
    "7. Create two 2D NumPy arrays and perform element-wise addition, subtraction, multiplication, and division."
   ]
  },
  {
   "cell_type": "code",
   "execution_count": null,
   "metadata": {},
   "outputs": [],
   "source": [
    "import numpy as np\n",
    "arr1=np.random.randint(1,1000,(4,4))\n",
    "arr2=np.random.randint(1,1000,(4,4))\n",
    "print(arr1+arr2)\n",
    "print(arr1-arr2)\n",
    "print(arr1*arr2)\n",
    "print(np.divide(arr1,arr2))"
   ]
  },
  {
   "cell_type": "markdown",
   "metadata": {},
   "source": [
    "8. Use NumPy to create a 5x5 identity matrix, then extract its diagonal elements."
   ]
  },
  {
   "cell_type": "code",
   "execution_count": null,
   "metadata": {},
   "outputs": [],
   "source": [
    "import numpy as np\n",
    "\n",
    "arr= np.identity(5,dtype=int)\n",
    "arr1=np.diagonal(arr)\n",
    "print(arr1)"
   ]
  },
  {
   "cell_type": "markdown",
   "metadata": {},
   "source": [
    "9. Generate a NumPy array of 100 random integers between 0 and 1000. Find and display all prime numbers in\n",
    "this array."
   ]
  },
  {
   "cell_type": "code",
   "execution_count": null,
   "metadata": {},
   "outputs": [],
   "source": [
    "import numpy as np\n",
    "\n",
    "# Function to check if a number is prime\n",
    "def is_prime(num):\n",
    "    if num < 2:\n",
    "        return False\n",
    "    for i in range(2, int(np.sqrt(num)) + 1):\n",
    "        if num % i == 0:\n",
    "            return False\n",
    "    return True\n",
    "\n",
    "# Generate random array of integers\n",
    "arr = np.random.randint(0, 1000, 100, dtype=int)\n",
    "\n",
    "# Apply the prime number check element-wise\n",
    "prim_arr = np.array([x for x in arr if is_prime(x)])\n",
    "\n",
    "# Print the arrays\n",
    "print(\"Original array:\", arr)\n",
    "print(\"Prime numbers array:\", prim_arr)\n"
   ]
  },
  {
   "cell_type": "markdown",
   "metadata": {},
   "source": [
    "10. Create a NumPy array representing daily temperatures for a month. Calculate and display the weekly\n",
    "averages."
   ]
  },
  {
   "cell_type": "code",
   "execution_count": null,
   "metadata": {},
   "outputs": [],
   "source": [
    "import numpy as np\n",
    "arr=np.random.uniform(20,35,30)\n",
    "print(arr)\n",
    "j=0\n",
    "window_size=7\n",
    "for i in range(1,len(arr)//7 +2):\n",
    "    temp=np.mean(arr[j:j+window_size])\n",
    "    print(f\"week{i} average temperature is {temp}\")\n",
    "    j+=7\n"
   ]
  },
  {
   "cell_type": "code",
   "execution_count": null,
   "metadata": {},
   "outputs": [],
   "source": []
  }
 ],
 "metadata": {
  "kernelspec": {
   "display_name": "Python 3",
   "language": "python",
   "name": "python3"
  },
  "language_info": {
   "codemirror_mode": {
    "name": "ipython",
    "version": 3
   },
   "file_extension": ".py",
   "mimetype": "text/x-python",
   "name": "python",
   "nbconvert_exporter": "python",
   "pygments_lexer": "ipython3",
   "version": "3.12.4"
  }
 },
 "nbformat": 4,
 "nbformat_minor": 2
}
